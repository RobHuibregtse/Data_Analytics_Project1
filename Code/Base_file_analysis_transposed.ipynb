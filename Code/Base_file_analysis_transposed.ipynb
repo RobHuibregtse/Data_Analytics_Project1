{
 "cells": [
  {
   "cell_type": "code",
   "execution_count": 331,
   "id": "a230cf2b-25cd-4e67-8231-ea6f92a4805c",
   "metadata": {},
   "outputs": [],
   "source": [
    "# ------ START OF COMMON FILE ANALYSIS CODE -----\n",
    "# Dependencies\n",
    "import pandas as pd\n",
    "from pathlib import Path\n",
    "import scipy.stats as st\n",
    "import matplotlib.pyplot as plt\n",
    "import matplotlib.dates as mdates\n",
    "import numpy as np\n",
    "from datetime import datetime"
   ]
  },
  {
   "cell_type": "code",
   "execution_count": 332,
   "id": "2eaac994-db93-46ab-899f-072c04d44fbc",
   "metadata": {},
   "outputs": [],
   "source": [
    "# --- Set filepath for file to analyze ---\n",
    "# NOTE: Edit this for each new file being run\n",
    "zillow_csv_path = Path('Zillow_Data/Metro_market_temp_index_uc_sfrcondo_month.csv')\n",
    "zillow_metric_name = 'Market Heat Index'"
   ]
  },
  {
   "cell_type": "code",
   "execution_count": 333,
   "id": "600b0148-9a96-43ed-b18e-b265e172fc2e",
   "metadata": {},
   "outputs": [
    {
     "name": "stdout",
     "output_type": "stream",
     "text": [
      "Created new dataframe: market_heat_index_df\n"
     ]
    }
   ],
   "source": [
    "# --- Create a data frame containing the data from the CSV ---\n",
    "# Load the CSV\n",
    "zillow_df = pd.read_csv(zillow_csv_path)\n",
    "# Insert 'US' as the state name for the United States region, so it shows up in state summary\n",
    "zillow_df.at[0,\"StateName\"] = 'US'\n",
    "# Rename labels\n",
    "zillow_df.rename(columns={'SizeRank': 'Size Rank', 'RegionName': 'Metro Area', 'StateName': 'State' }, inplace=True)\n",
    "# Remove the RegionType column\n",
    "zillow_df = zillow_df.drop('RegionType', axis = 1)\n",
    "# Insert a new blank column to store the Size Segment\n",
    "zillow_df['Size Segment'] = pd.NA\n",
    "# Re-order columns so that Size Segment is next to Size Rank\n",
    "columns = zillow_df.columns.tolist()\n",
    "columns.remove('Size Segment')\n",
    "columns.insert(2, 'Size Segment')\n",
    "zillow_df = zillow_df[columns]\n",
    "# Establish Size Segments as bins\n",
    "size_segment_bins = [-1, 0, 100, 300, 500, 1000]\n",
    "size_segment_labels = [\"National Average\", \"Top 100\", \"101 - 300\", \"301 - 500\", \"Bottom 500\"]\n",
    "# Insert segment values into Size Segment column\n",
    "zillow_df['Size Segment'] = pd.cut(zillow_df[\"Size Rank\"], bins=size_segment_bins, labels=size_segment_labels)\n",
    "# Select only the columns with date information and the 'Size Segment' column\n",
    "date_columns = [col for col in zillow_df.columns if isinstance(col, str) and col.startswith('2018') or col.startswith('2019') or col.startswith('2020') or col.startswith('2021') or col.startswith('2022') or col.startswith('2023')]\n",
    "columns_of_interest = ['RegionID', 'Size Rank', 'Size Segment', 'Metro Area', 'State'] + date_columns\n",
    "zillow_df= zillow_df[columns_of_interest]\n",
    "\n",
    "# Create a unique data frame which is named after the metric currently being analyzed:\n",
    "# Set the df name as a string equal to the zillow metric name, with spaces replaced with underscores and in all lowercase\n",
    "zillow_unique_df_name = zillow_metric_name.replace(\" \", \"_\").lower() + \"_df\"\n",
    "globals()[zillow_unique_df_name] = zillow_df.copy()\n",
    "print(f'Created new dataframe: {zillow_unique_df_name}')"
   ]
  },
  {
   "cell_type": "code",
   "execution_count": 334,
   "id": "c2ba98c4-394f-4c3f-a316-302ef63d6a85",
   "metadata": {},
   "outputs": [
    {
     "name": "stdout",
     "output_type": "stream",
     "text": [
      "Created new dataframe: market_heat_index_df_state\n"
     ]
    }
   ],
   "source": [
    "# --- Create a data frame segmented by state ---\n",
    "# Create a data frame that summarizes the data by size segment\n",
    "state_summary_df = zillow_df.groupby('State').mean('State').drop('RegionID',  axis = 1).drop('Size Rank',  axis = 1)\n",
    "state_summary_df.reset_index(inplace=True)\n",
    "state_summary_df.rename(columns={'State': 'Date'}, inplace = True)\n",
    "state_summary_df.set_index('Date', inplace=True)\n",
    "state_summary_df = state_summary_df.T\n",
    "state_summary_df.reset_index(inplace=True)\n",
    "state_summary_df.rename(columns={'index': 'Date'}, inplace=True)\n",
    "state_summary_df['Date'] = pd.to_datetime(state_summary_df['Date'])\n",
    "# Copy to uniquely named data frame\n",
    "state_unique_df_name = zillow_metric_name.replace(\" \", \"_\").lower() + \"_df_state\"\n",
    "globals()[state_unique_df_name] = state_summary_df.copy()\n",
    "print(f'Created new dataframe: {state_unique_df_name}')"
   ]
  },
  {
   "cell_type": "code",
   "execution_count": 335,
   "id": "34187fb0-b884-4eae-a411-1348b4242d9c",
   "metadata": {},
   "outputs": [
    {
     "name": "stdout",
     "output_type": "stream",
     "text": [
      "Created new dataframe: market_heat_index_df_size\n"
     ]
    }
   ],
   "source": [
    "# --- Create a data frame segmented by size rank ---\n",
    "# Group by 'Size Segment' and calculate the mean for each segment\n",
    "zillow_df_mean = zillow_df.groupby('Size Segment', observed = False).mean('Size Segment').drop('RegionID',  axis = 1).drop('Size Rank',  axis = 1)\n",
    "# Reset the index for better display\n",
    "zillow_df_mean.reset_index(inplace=True)\n",
    "zillow_df_mean.rename(columns={'Size Segment': 'Date'}, inplace = True)\n",
    "zillow_df_mean.set_index('Date', inplace=True)\n",
    "zillow_df_mean = zillow_df_mean.T\n",
    "zillow_df_mean.reset_index(inplace=True)\n",
    "zillow_df_mean.rename(columns={'index': 'Date'}, inplace=True)\n",
    "zillow_df_mean['Date'] = pd.to_datetime(zillow_df_mean['Date'])\n",
    "# Create uniquely named data frame\n",
    "size_unique_df_name = zillow_metric_name.replace(\" \", \"_\").lower() + \"_df_size\"\n",
    "globals()[size_unique_df_name] = zillow_df_mean.copy()\n",
    "print(f'Created new dataframe: {size_unique_df_name }')"
   ]
  },
  {
   "cell_type": "code",
   "execution_count": null,
   "id": "dac20b97-b62f-4ab3-92f3-3fa7bbbe504e",
   "metadata": {},
   "outputs": [],
   "source": []
  }
 ],
 "metadata": {
  "kernelspec": {
   "display_name": "Python 3 (ipykernel)",
   "language": "python",
   "name": "python3"
  },
  "language_info": {
   "codemirror_mode": {
    "name": "ipython",
    "version": 3
   },
   "file_extension": ".py",
   "mimetype": "text/x-python",
   "name": "python",
   "nbconvert_exporter": "python",
   "pygments_lexer": "ipython3",
   "version": "3.10.14"
  }
 },
 "nbformat": 4,
 "nbformat_minor": 5
}
