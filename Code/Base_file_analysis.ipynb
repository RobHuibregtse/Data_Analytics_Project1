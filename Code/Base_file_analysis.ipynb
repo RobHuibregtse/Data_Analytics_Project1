{
 "cells": [
  {
   "cell_type": "code",
   "execution_count": 284,
   "id": "a230cf2b-25cd-4e67-8231-ea6f92a4805c",
   "metadata": {},
   "outputs": [],
   "source": [
    "# ------ START OF COMMON FILE ANALYSIS CODE -----\n",
    "# Dependencies\n",
    "import pandas as pd\n",
    "from pathlib import Path\n",
    "import scipy.stats as st\n",
    "import matplotlib.pyplot as plt\n",
    "import numpy as np"
   ]
  },
  {
   "cell_type": "code",
   "execution_count": 285,
   "id": "2eaac994-db93-46ab-899f-072c04d44fbc",
   "metadata": {},
   "outputs": [],
   "source": [
    "# --- Set filepath for file to analyze ---\n",
    "# NOTE: Edit this for each new file being run\n",
    "zillow_csv_path = Path('Zillow_Data/Metro_zori_uc_sfrcondomfr_sm_month.csv')\n",
    "zillow_metric_name = 'Rent Index'\n",
    "min_year = '2018'\n",
    "max_year = '2023'"
   ]
  },
  {
   "cell_type": "code",
   "execution_count": 286,
   "id": "600b0148-9a96-43ed-b18e-b265e172fc2e",
   "metadata": {},
   "outputs": [
    {
     "name": "stdout",
     "output_type": "stream",
     "text": [
      "Created new dataframe: rent_index_df\n"
     ]
    }
   ],
   "source": [
    "# --- Create a data frame containing the data from the CSV ---\n",
    "# Load the CSV\n",
    "zillow_df = pd.read_csv(zillow_csv_path)\n",
    "# Insert 'US' as the state name for the United States region, so it shows up in state summary\n",
    "zillow_df.at[0,\"StateName\"] = 'US'\n",
    "# Rename labels\n",
    "zillow_df.rename(columns={'SizeRank': 'Size Rank', 'RegionName': 'Metro Area', 'StateName': 'State' }, inplace=True)\n",
    "# Remove the RegionType column\n",
    "zillow_df = zillow_df.drop('RegionType', axis = 1)\n",
    "# Insert a new blank column to store the Size Segment\n",
    "zillow_df['Size Segment'] = pd.NA\n",
    "# Re-order columns so that Size Segment is next to Size Rank\n",
    "columns = zillow_df.columns.tolist()\n",
    "columns.remove('Size Segment')\n",
    "columns.insert(2, 'Size Segment')\n",
    "zillow_df = zillow_df[columns]\n",
    "# Establish Size Segments as bins\n",
    "size_segment_bins = [-1, 0, 100, 200, 300, 400, 500, 1000]\n",
    "size_segment_labels = [\"National Average\", \"Top 100\", \"101 - 200\", \"201 - 300\", \"301 - 400\", \"401 - 500\", \"Bottom 500\"]\n",
    "# Insert segment values into Size Segment column\n",
    "zillow_df['Size Segment'] = pd.cut(zillow_df[\"Size Rank\"], bins=size_segment_bins, labels=size_segment_labels)\n",
    "# Select only the columns with date information and the 'Size Segment' column\n",
    "date_columns = [col for col in zillow_df.columns if isinstance(col, str) and col.startswith('2018') or col.startswith('2019') or col.startswith('2020') or col.startswith('2021') or col.startswith('2022') or col.startswith('2023')]\n",
    "columns_of_interest = ['RegionID', 'Size Rank', 'Size Segment', 'Metro Area', 'State'] + date_columns\n",
    "zillow_df= zillow_df[columns_of_interest]\n",
    "\n",
    "# Create a unique data frame which is named after the metric currently being analyzed:\n",
    "# Set the df name as a string equal to the zillow metric name, with spaces replaced with underscores and in all lowercase\n",
    "zillow_unique_df_name = zillow_metric_name.replace(\" \", \"_\").lower() + \"_df\"\n",
    "globals()[zillow_unique_df_name] = zillow_df.copy()\n",
    "print(f'Created new dataframe: {zillow_unique_df_name}')"
   ]
  },
  {
   "cell_type": "code",
   "execution_count": 287,
   "id": "c2ba98c4-394f-4c3f-a316-302ef63d6a85",
   "metadata": {},
   "outputs": [
    {
     "name": "stdout",
     "output_type": "stream",
     "text": [
      "Created new dataframe: rent_index_df_state\n"
     ]
    }
   ],
   "source": [
    "# --- Create a data frame segmented by state ---\n",
    "# Create a data frame that summarizes the data by size segment\n",
    "state_summary_df = zillow_df.groupby('State').mean('State').drop('RegionID',  axis = 1).drop('Size Rank',  axis = 1)\n",
    "# Copy to uniquely named data frame\n",
    "state_unique_df_name = zillow_metric_name.replace(\" \", \"_\").lower() + \"_df_state\"\n",
    "globals()[state_unique_df_name] = state_summary_df.copy()\n",
    "print(f'Created new dataframe: {state_unique_df_name}')"
   ]
  },
  {
   "cell_type": "code",
   "execution_count": 288,
   "id": "34187fb0-b884-4eae-a411-1348b4242d9c",
   "metadata": {},
   "outputs": [
    {
     "name": "stdout",
     "output_type": "stream",
     "text": [
      "Created new dataframe: rent_index_df_size\n"
     ]
    }
   ],
   "source": [
    "# --- Create a data frame segmented by size rank ---\n",
    "# Group by 'Size Segment' and calculate the mean for each segment\n",
    "zillow_df_mean = zillow_df_filtered.groupby('Size Segment', observed = False).mean('Size Segment').drop('RegionID',  axis = 1).drop('Size Rank',  axis = 1)\n",
    "# Reset the index for better display\n",
    "zillow_df_mean.reset_index(inplace=True)\n",
    "# Display the table\n",
    "zillow_df_mean.head()\n",
    "# Create uniquely named data frame\n",
    "size_unique_df_name = zillow_metric_name.replace(\" \", \"_\").lower() + \"_df_size\"\n",
    "globals()[size_unique_df_name] = zillow_df_mean.copy()\n",
    "print(f'Created new dataframe: {size_unique_df_name }')"
   ]
  },
  {
   "cell_type": "code",
   "execution_count": 292,
   "id": "053c9d6a-c550-4974-9e82-609444afb264",
   "metadata": {},
   "outputs": [
    {
     "ename": "NameError",
     "evalue": "name 'year' is not defined",
     "output_type": "error",
     "traceback": [
      "\u001b[0;31m---------------------------------------------------------------------------\u001b[0m",
      "\u001b[0;31mNameError\u001b[0m                                 Traceback (most recent call last)",
      "Cell \u001b[0;32mIn[292], line 12\u001b[0m\n\u001b[1;32m     10\u001b[0m filtered_zillow_df \u001b[38;5;241m=\u001b[39m filter_data_by_date_range(zillow_df, start_date, end_date)\n\u001b[1;32m     11\u001b[0m \u001b[38;5;66;03m# Filter columns for the specific year\u001b[39;00m\n\u001b[0;32m---> 12\u001b[0m year_columns \u001b[38;5;241m=\u001b[39m [col \u001b[38;5;28;01mfor\u001b[39;00m col \u001b[38;5;129;01min\u001b[39;00m zillow_df\u001b[38;5;241m.\u001b[39mcolumns \u001b[38;5;28;01mif\u001b[39;00m col\u001b[38;5;241m.\u001b[39mstartswith(\u001b[38;5;28mstr\u001b[39m(year))]\n\u001b[1;32m     13\u001b[0m     \u001b[38;5;66;03m# Calculate the mean for each year\u001b[39;00m\n\u001b[1;32m     14\u001b[0m yearly_data[year] \u001b[38;5;241m=\u001b[39m zillow_df[year_columns]\u001b[38;5;241m.\u001b[39mmean(axis\u001b[38;5;241m=\u001b[39m\u001b[38;5;241m1\u001b[39m)\n",
      "Cell \u001b[0;32mIn[292], line 12\u001b[0m, in \u001b[0;36m<listcomp>\u001b[0;34m(.0)\u001b[0m\n\u001b[1;32m     10\u001b[0m filtered_zillow_df \u001b[38;5;241m=\u001b[39m filter_data_by_date_range(zillow_df, start_date, end_date)\n\u001b[1;32m     11\u001b[0m \u001b[38;5;66;03m# Filter columns for the specific year\u001b[39;00m\n\u001b[0;32m---> 12\u001b[0m year_columns \u001b[38;5;241m=\u001b[39m [col \u001b[38;5;28;01mfor\u001b[39;00m col \u001b[38;5;129;01min\u001b[39;00m zillow_df\u001b[38;5;241m.\u001b[39mcolumns \u001b[38;5;28;01mif\u001b[39;00m col\u001b[38;5;241m.\u001b[39mstartswith(\u001b[38;5;28mstr\u001b[39m(\u001b[43myear\u001b[49m))]\n\u001b[1;32m     13\u001b[0m     \u001b[38;5;66;03m# Calculate the mean for each year\u001b[39;00m\n\u001b[1;32m     14\u001b[0m yearly_data[year] \u001b[38;5;241m=\u001b[39m zillow_df[year_columns]\u001b[38;5;241m.\u001b[39mmean(axis\u001b[38;5;241m=\u001b[39m\u001b[38;5;241m1\u001b[39m)\n",
      "\u001b[0;31mNameError\u001b[0m: name 'year' is not defined"
     ]
    }
   ],
   "source": [
    "# --- Create data frame of the average value per year --- \n",
    "#Filter data into specific range\n",
    "def filter_data_by_date_range(df, start_date, end_date):\n",
    "    filtered_df = df.loc[:, (df.columns >= start_date) & (df.columns <= end_date)]\n",
    "    return filtered_df\n",
    "# Specify the start and end dates for the time frame you want to analyze\n",
    "start_date = '2018-01-31'\n",
    "end_date = '2023-12-31'\n",
    "# Filter the DataFrame based on the specified date range\n",
    "filtered_zillow_df = filter_data_by_date_range(zillow_df, start_date, end_date)\n",
    "# Filter columns for the specific year\n",
    "year_columns = [col for col in zillow_df.columns if col.startswith(str(year))]\n",
    "    # Calculate the mean for each year\n",
    "yearly_data[year] = zillow_df[year_columns].mean(axis=1)\n",
    "# Create a new DataFrame with the yearly data\n",
    "zillow_yearly_df = pd.DataFrame(yearly_data)\n",
    "zillow_yearly_df.insert(0, 'RegionName', zillow_df['RegionName'])\n",
    "# Display the filtered DataFrame\n",
    "filtered_zillow_df.head()\n",
    "zillow_yearly_df.head()"
   ]
  },
  {
   "cell_type": "code",
   "execution_count": null,
   "id": "6ea79297-1d7c-4468-b894-3e70c12b897c",
   "metadata": {},
   "outputs": [],
   "source": []
  }
 ],
 "metadata": {
  "kernelspec": {
   "display_name": "Python 3 (ipykernel)",
   "language": "python",
   "name": "python3"
  },
  "language_info": {
   "codemirror_mode": {
    "name": "ipython",
    "version": 3
   },
   "file_extension": ".py",
   "mimetype": "text/x-python",
   "name": "python",
   "nbconvert_exporter": "python",
   "pygments_lexer": "ipython3",
   "version": "3.10.14"
  }
 },
 "nbformat": 4,
 "nbformat_minor": 5
}
